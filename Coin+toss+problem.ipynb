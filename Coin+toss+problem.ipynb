{
 "cells": [
  {
   "cell_type": "markdown",
   "metadata": {},
   "source": [
    "Problem posed by Alexander Bogomonly (https://twitter.com/CutTheKnotMath)\n",
    "\n",
    "Problem: A tosses a fair coin 20 times. B does that 21 times. \n",
    "\n",
    "What's the probability B will have more heads than A ?\n",
    "\n",
    "See:\n",
    "1. [Problem](https://twitter.com/CutTheKnotMath/status/924701881292685312)\n",
    "2. [Solutions](https://www.cut-the-knot.org/m/Probability/CoinTossingContest.shtml)"
   ]
  },
  {
   "cell_type": "markdown",
   "metadata": {},
   "source": [
    "A combinatorial identity proposed by Taleb(https://twitter.com/nntaleb)\n",
    "\n",
    "[Combinatorial Identity](https://twitter.com/nntaleb/status/924805829387309056)\n",
    "\n",
    "\n",
    "Let \n",
    "m = number of cointosses by B\n",
    "\n",
    "n = number of cointosses by A\n",
    "\n",
    "Set p=q=1/2 (for a fair coin),\n",
    "\n",
    "which vastly simplifies Taleb's original result.\n",
    "\n",
    "For a fair coin, \n",
    "the probability P(B-A >=d), parametrized on the difference d between the number of heads, \n",
    "is then given by\n",
    "\n",
    "---------------------------------------------------------------------------------\n",
    "\n",
    "P(B-A >= d) = sum(w = d..max(m,n), (m choose w) x (1/2)^(m+n) x 2F1(-n,w-m,w+1,1))\n",
    "\n",
    "---------------------------------------------------------------------------------\n",
    "\n",
    "where 2F1(...) is the [generalized hypergeometric function](https://en.wikipedia.org/wiki/Generalized_hypergeometric_function#The_series_2F1)\n",
    "\n",
    "This probability is computed below for various game configurations:"
   ]
  },
  {
   "cell_type": "code",
   "execution_count": 1,
   "metadata": {
    "collapsed": true
   },
   "outputs": [],
   "source": [
    "import scipy.special as ss\n",
    "import fractions as ff\n",
    "\n",
    "def talebcointoss(m,n,d):\n",
    "    sum = 0\n",
    "    for w in range(d,max(m,n)+1):\n",
    "        s = ff.Fraction(1/2) ** (m+n)\n",
    "        c = ss.comb(m,w)\n",
    "        h = ss.hyp2f1(-n,w-m,w+1,1)\n",
    "        sum += s*c*h\n",
    "    return sum    "
   ]
  },
  {
   "cell_type": "code",
   "execution_count": 2,
   "metadata": {},
   "outputs": [
    {
     "data": {
      "text/plain": [
       "0.5"
      ]
     },
     "execution_count": 2,
     "metadata": {},
     "output_type": "execute_result"
    }
   ],
   "source": [
    "m=21\n",
    "n=20\n",
    "d=1\n",
    "talebcointoss(m,n,d) #Result for the original problem posed by Alexander"
   ]
  },
  {
   "cell_type": "markdown",
   "metadata": {},
   "source": [
    "Result obtained by Amit for m=22, n=20 coin tosses: https://twitter.com/gcfr20/status/924811626179629056"
   ]
  },
  {
   "cell_type": "code",
   "execution_count": 3,
   "metadata": {},
   "outputs": [
    {
     "data": {
      "text/plain": [
       "0.56119283562384226"
      ]
     },
     "execution_count": 3,
     "metadata": {},
     "output_type": "execute_result"
    }
   ],
   "source": [
    "talebcointoss(22,20,1)"
   ]
  },
  {
   "cell_type": "markdown",
   "metadata": {},
   "source": [
    "Result obtained by Amit for m=3, n=1 coin tosses:https://twitter.com/gcfr20/status/924807489404710912"
   ]
  },
  {
   "cell_type": "code",
   "execution_count": 4,
   "metadata": {},
   "outputs": [
    {
     "data": {
      "text/plain": [
       "0.6875"
      ]
     },
     "execution_count": 4,
     "metadata": {},
     "output_type": "execute_result"
    }
   ],
   "source": [
    "talebcointoss(3,1,1)"
   ]
  },
  {
   "cell_type": "markdown",
   "metadata": {},
   "source": [
    "Let's visualize this probability cadlag as the number of tosses for player B increase, holding A fixed at 20."
   ]
  },
  {
   "cell_type": "code",
   "execution_count": 5,
   "metadata": {},
   "outputs": [
    {
     "data": {
      "image/png": "[encoded data removed]",
      "text/plain": [
       "<matplotlib.figure.Figure at 0x7faf366dde10>"
      ]
     },
     "metadata": {},
     "output_type": "display_data"
    }
   ],
   "source": [
    "import matplotlib.pyplot as plt\n",
    "\n",
    "plt.figure()\n",
    "plt.grid(b=True, which='both', axis='both')\n",
    "for m in range(1,51):\n",
    "    plt.scatter(m, talebcointoss(m,20,d))\n",
    "plt.show()"
   ]
  },
  {
   "cell_type": "markdown",
   "metadata": {},
   "source": [
    "Some insights:\n",
    "\n",
    "1. Even when both players toss a fair coin an equal number of times (m=n=20), there's a 40% chance that one of them ends up with more heads than the other. Equal distributions do not collapse to zero.\n",
    "\n",
    "See: https://twitter.com/qwob/status/924796354135777282\n",
    "\n",
    "2. When the other player is given twice as many turns (m=40,n=20),its almost certain he has more heads( ~100%)"
   ]
  },
  {
   "cell_type": "markdown",
   "metadata": {},
   "source": [
    "Let's try another experiment.\n",
    "What if both players have the same number (m=n=20) of tosses, but we count the difference of heads between them.\n",
    "Suppose we plot the probability as a function of the difference of heads, we obtain -"
   ]
  },
  {
   "cell_type": "code",
   "execution_count": 9,
   "metadata": {},
   "outputs": [
    {
     "data": {
      "image/png": "[encoded data removed]",
      "text/plain": [
       "<matplotlib.figure.Figure at 0x7faf30e9be10>"
      ]
     },
     "metadata": {},
     "output_type": "display_data"
    }
   ],
   "source": [
    "plt.figure()\n",
    "plt.grid(b=True, which='both', axis='both')\n",
    "for d in range(0,10):\n",
    "        plt.scatter(d, talebcointoss(20,20,d))\n",
    "plt.show()"
   ]
  },
  {
   "cell_type": "markdown",
   "metadata": {},
   "source": [
    "We note that\n",
    "\n",
    "1. Given 2 players toss a fair coin the same number of times, there's a 44% chance one of them has atleast one more head than the other. So a fairly high chance of a 1-head lead.\n",
    "\n",
    "2. As we insist on a lead of more than 1 head, the probability drops off linearly.\n",
    "   Chances of a 2-head lead are about 30%, 4-head lead about 15%, 6-head about 5%, ~zero chances of an 8-head lead.\n",
    "   \n",
    "Now, you might hypothesize the probability is so low because the players are evenly matched.\n",
    "\n",
    "Lets let one player toss the coin twice as much as the other.\n",
    "\n",
    "m=40, n=20\n",
    "\n",
    "That looks like -"
   ]
  },
  {
   "cell_type": "code",
   "execution_count": 11,
   "metadata": {},
   "outputs": [
    {
     "data": {
      "image/png": "[encoded data removed]",
      "text/plain": [
       "<matplotlib.figure.Figure at 0x7faf30989b00>"
      ]
     },
     "metadata": {},
     "output_type": "display_data"
    }
   ],
   "source": [
    "plt.figure()\n",
    "plt.grid(b=True, which='both', axis='both')\n",
    "for d in range(0,20):\n",
    "        plt.scatter(d, talebcointoss(40,20,d))\n",
    "plt.show()"
   ]
  },
  {
   "cell_type": "markdown",
   "metadata": {},
   "source": [
    "Ha! If one player tosses the fair coin twice as much as the other,\n",
    "he's almost surely guaranteed to lead by 1 head.\n",
    "\n",
    "In fact, chances of leading the other player by 4 heads is 95% !\n",
    "\n",
    "Chances of a  10-head lead is an even 50%.\n",
    "\n",
    "In fact, a full 15 head lead, out of the 20 extra coin tosses, is a not insignificant 10% chance.\n",
    "\n",
    "So handicapping one player at the expense of another vastly boosts the latter's chances.\n",
    "\n",
    "We could study the entire landscape now, varying both player tosses and head difference between players -"
   ]
  },
  {
   "cell_type": "code",
   "execution_count": 12,
   "metadata": {},
   "outputs": [
    {
     "data": {
      "image/png": "[encoded data removed]",
      "text/plain": [
       "<matplotlib.figure.Figure at 0x7faf308a7a58>"
      ]
     },
     "metadata": {},
     "output_type": "display_data"
    }
   ],
   "source": [
    "plt.figure()\n",
    "plt.grid(b=True, which='both', axis='both')\n",
    "for m in range(20,40):\n",
    "    for d in range(0,20):\n",
    "        plt.scatter(d, talebcointoss(m,20,d))\n",
    "plt.show()"
   ]
  },
  {
   "cell_type": "markdown",
   "metadata": {},
   "source": [
    "We see the previous 2 curves enveloping the landscape of possibilities.\n",
    "\n",
    "The uppermost curve is the 40-20 toss curve, the lowermost is the evenly matched 20-20 toss curve.\n",
    "\n",
    "In between the two are a a wide range of possibilities."
   ]
  }
 ],
 "metadata": {
  "kernelspec": {
   "display_name": "Python 3",
   "language": "python",
   "name": "python3"
  },
  "language_info": {
   "codemirror_mode": {
    "name": "ipython",
    "version": 3
   },
   "file_extension": ".py",
   "mimetype": "text/x-python",
   "name": "python",
   "nbconvert_exporter": "python",
   "pygments_lexer": "ipython3",
   "version": "3.5.2"
  }
 },
 "nbformat": 4,
 "nbformat_minor": 2
}
